{
 "metadata": {
  "name": "",
  "signature": "sha256:e2c636105b6c8dd37f7ff384646f65434735dee55075442638cec7a7edb28b84"
 },
 "nbformat": 3,
 "nbformat_minor": 0,
 "worksheets": [
  {
   "cells": [
    {
     "cell_type": "markdown",
     "metadata": {},
     "source": [
      "#Esercizio 1 \n",
      "Dato un array di interi, restituire la loro somma fino a che non viene ritrovato un valore \n",
      "negativo. "
     ]
    },
    {
     "cell_type": "code",
     "collapsed": false,
     "input": [
      "function sumFirstNeg (a) {\n",
      "    sum = 0;\n",
      "    for (i = 0; a[i] > -1; i++) {\n",
      "    sum += a[i];\n",
      "    }\n",
      "    return sum;\n",
      "}"
     ],
     "language": "python",
     "metadata": {},
     "outputs": [
      {
       "metadata": {},
       "output_type": "pyout",
       "prompt_number": 5,
       "text": [
        "undefined"
       ]
      }
     ],
     "prompt_number": 5
    },
    {
     "cell_type": "code",
     "collapsed": false,
     "input": [
      "sumFirstNeg ([7,5,-1,-2,8,7]);"
     ],
     "language": "python",
     "metadata": {},
     "outputs": [
      {
       "metadata": {},
       "output_type": "pyout",
       "prompt_number": 6,
       "text": [
        "12"
       ]
      }
     ],
     "prompt_number": 6
    },
    {
     "cell_type": "markdown",
     "metadata": {},
     "source": [
      "#Esercizio 2 \n",
      "Dato un numero n, restituire la somma dei primi n numeri interi positivi dispari "
     ]
    },
    {
     "cell_type": "code",
     "collapsed": false,
     "input": [
      "function buildArray (n) {\n",
      "   \n",
      "    array =[];\n",
      "    for (i = 0; i < n; i++) {\n",
      "        array[i] = (i + 1) \n",
      "            \n",
      "    }\n",
      "   \n",
      "    return array;\n",
      "}"
     ],
     "language": "python",
     "metadata": {},
     "outputs": [
      {
       "metadata": {},
       "output_type": "pyout",
       "prompt_number": 50,
       "text": [
        "undefined"
       ]
      }
     ],
     "prompt_number": 50
    },
    {
     "cell_type": "code",
     "collapsed": false,
     "input": [
      "buildArray (4);"
     ],
     "language": "python",
     "metadata": {},
     "outputs": [
      {
       "metadata": {},
       "output_type": "pyout",
       "prompt_number": 17,
       "text": [
        "[ 1, 2, 3, 4 ]"
       ]
      }
     ],
     "prompt_number": 17
    },
    {
     "cell_type": "markdown",
     "metadata": {},
     "source": [
      "#Esercizio 3 \n",
      "Dato un array di 10 elementi, calcolarne la media "
     ]
    },
    {
     "cell_type": "code",
     "collapsed": false,
     "input": [
      "function sumAll (a) {\n",
      "    sum = 0;\n",
      "    for (i = 0; i < a.length; i++) {\n",
      "    sum += a[i]; \n",
      "    }\n",
      "    return sum;\n",
      "}"
     ],
     "language": "python",
     "metadata": {},
     "outputs": [
      {
       "metadata": {},
       "output_type": "pyout",
       "prompt_number": 10,
       "text": [
        "undefined"
       ]
      }
     ],
     "prompt_number": 10
    },
    {
     "cell_type": "code",
     "collapsed": false,
     "input": [
      "function buildArray (n) {\n",
      "   \n",
      "    array =[];\n",
      "    for (i = 0; i < n; i++) {\n",
      "        array[i] = (i + 1) \n",
      "            \n",
      "    }\n",
      "   \n",
      "    return array;\n",
      "}"
     ],
     "language": "python",
     "metadata": {},
     "outputs": [
      {
       "metadata": {},
       "output_type": "pyout",
       "prompt_number": 11,
       "text": [
        "undefined"
       ]
      }
     ],
     "prompt_number": 11
    },
    {
     "cell_type": "code",
     "collapsed": false,
     "input": [
      "c = buildArray (10);"
     ],
     "language": "python",
     "metadata": {},
     "outputs": [
      {
       "metadata": {},
       "output_type": "pyout",
       "prompt_number": 12,
       "text": [
        "[ 1, 2, 3, 4, 5, 6, 7, 8, 9, 10 ]"
       ]
      }
     ],
     "prompt_number": 12
    },
    {
     "cell_type": "code",
     "collapsed": false,
     "input": [
      "sumAll (c);"
     ],
     "language": "python",
     "metadata": {},
     "outputs": [
      {
       "metadata": {},
       "output_type": "pyout",
       "prompt_number": 13,
       "text": [
        "55"
       ]
      }
     ],
     "prompt_number": 13
    },
    {
     "cell_type": "code",
     "collapsed": false,
     "input": [
      "function average (a) {\n",
      "    sum = sumAll (a);\n",
      "    avg = sum / a.length;\n",
      "    return avg;\n",
      "}"
     ],
     "language": "python",
     "metadata": {},
     "outputs": [
      {
       "metadata": {},
       "output_type": "pyout",
       "prompt_number": 14,
       "text": [
        "undefined"
       ]
      }
     ],
     "prompt_number": 14
    },
    {
     "cell_type": "code",
     "collapsed": false,
     "input": [
      "average (c);"
     ],
     "language": "python",
     "metadata": {},
     "outputs": [
      {
       "metadata": {},
       "output_type": "pyout",
       "prompt_number": 15,
       "text": [
        "5.5"
       ]
      }
     ],
     "prompt_number": 15
    },
    {
     "cell_type": "markdown",
     "metadata": {},
     "source": [
      "#Esercizio 4 \n",
      "Dato un intervallo [a, b] con a e b due interi positivi, restituire la somma di tutti i numeri \n",
      "compresi all\u2019interno dell\u2019intervallo, estremi inclusi. Nel caso che b fosse minore di a, \n",
      "calcolare la somma nell\u2019intervallo [b,a] \n",
      "Esempio:  \n",
      "sumInterval(3, 5) => 12 \n",
      "sumInterval(5, 3) => 12 "
     ]
    },
    {
     "cell_type": "markdown",
     "metadata": {},
     "source": [
      "#Esercizio 5 \n",
      "Si calcoli il prodotto di due numeri a, b maggiori o uguali a zero, tramite l\u2019utilizzo del solo \n",
      "operatore somma. \n",
      "Esempio: \n",
      "mult(2, 3) => 6 "
     ]
    },
    {
     "cell_type": "markdown",
     "metadata": {},
     "source": [
      "#Esercizio 6 \n",
      "Si calcoli la divisione e il resto della divisione tra due numeri a, b maggiori a zero, tramite \n",
      "l\u2019utilizzo dei soli operatori somma e sottrazione. \n",
      "Esempio: \n",
      "div(5, 3) => 1 resto 2"
     ]
    },
    {
     "cell_type": "code",
     "collapsed": false,
     "input": [
      "function div (a,b) {\n",
      "    return (('=> ') + Math.floor(a/b)) + (' resto ') + a % b\n",
      "    }\n",
      "console.log (div(5,3));"
     ],
     "language": "python",
     "metadata": {},
     "outputs": [
      {
       "output_type": "stream",
       "stream": "stdout",
       "text": [
        "=> 1 resto 2\n"
       ]
      },
      {
       "metadata": {},
       "output_type": "pyout",
       "prompt_number": 22,
       "text": [
        "undefined"
       ]
      }
     ],
     "prompt_number": 22
    },
    {
     "cell_type": "markdown",
     "metadata": {},
     "source": [
      "#Esercizio 7 \n",
      "Si calcoli la potenza (x^y) di due numeri x y maggiori o uguali a zero, tramite l\u2019utilizzo dei soli \n",
      "operatori somma, sottrazione e della funzione mult. \n",
      "Esempio: \n",
      "pow(2, 3) => 8"
     ]
    },
    {
     "cell_type": "markdown",
     "metadata": {},
     "source": [
      "#Esercizio 8 \n",
      "Dato un array contenente n^2 elementi, scrivere un algoritmo che permetta di inserire tutti gli \n",
      "oggetti in un array bidimensionale n x n. "
     ]
    },
    {
     "cell_type": "markdown",
     "metadata": {},
     "source": [
      "#Esercizio 9 \n",
      "Dato una lista di elementi, scrivere un algoritmo che permetta di invertire l\u2019ordine degli \n",
      "elementi. "
     ]
    },
    {
     "cell_type": "markdown",
     "metadata": {},
     "source": [
      "#Esercizio 10 \n",
      "Dati due interi a, n maggiori di 0, scrivere un algoritmo che crea un lista di n elementi \n",
      "contenenti a. \n",
      "Esempio: \n",
      "replicate(3, 4) => A= {3, 3, 3, 3} "
     ]
    },
    {
     "cell_type": "markdown",
     "metadata": {},
     "source": [
      "#Esercizio 11 \n",
      "Data una lista di interi A, si riordini gli elementi della lista in modo tale che tutti gli elementi \n",
      "dispari precedano nello stesso ordine tutti gli elementi pari. \n",
      "Esempio \n",
      "Input: A = {2, 5, 1, 8} \n",
      "Output: A = {5, 1, 2, 8}"
     ]
    }
   ],
   "metadata": {}
  }
 ]
}